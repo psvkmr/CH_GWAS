{
 "cells": [
  {
   "cell_type": "code",
   "execution_count": 3,
   "metadata": {},
   "outputs": [],
   "source": [
    "import pandas as pd\n",
    "import re"
   ]
  },
  {
   "cell_type": "markdown",
   "metadata": {},
   "source": [
    "Cases from uk sample sheet"
   ]
  },
  {
   "cell_type": "code",
   "execution_count": 8,
   "metadata": {},
   "outputs": [],
   "source": [
    "uk_samples = pd.read_csv(\"I:/psivakumar/Emer_CH/gwas/samplesheet_UK_only_final.csv\")"
   ]
  },
  {
   "cell_type": "code",
   "execution_count": 9,
   "metadata": {},
   "outputs": [
    {
     "name": "stdout",
     "output_type": "stream",
     "text": [
      "1041\n"
     ]
    }
   ],
   "source": [
    "print(len(uk_samples))"
   ]
  },
  {
   "cell_type": "markdown",
   "metadata": {},
   "source": [
    "Cases used in original plink files"
   ]
  },
  {
   "cell_type": "code",
   "execution_count": 10,
   "metadata": {},
   "outputs": [],
   "source": [
    "uk_cases_used = pd.read_csv(\"I:/psivakumar/Emer_CH/gwas/uk_analysis/ukCases.txt\", header=None)"
   ]
  },
  {
   "cell_type": "code",
   "execution_count": 11,
   "metadata": {},
   "outputs": [
    {
     "name": "stdout",
     "output_type": "stream",
     "text": [
      "1040\n"
     ]
    }
   ],
   "source": [
    "print(len(uk_cases_used))"
   ]
  },
  {
   "cell_type": "markdown",
   "metadata": {},
   "source": [
    "Cases removed due to duplicate entries"
   ]
  },
  {
   "cell_type": "code",
   "execution_count": 13,
   "metadata": {},
   "outputs": [],
   "source": [
    "#cases_dup = pd.read_csv(\"I:/psivakumar/Emer_CH/gwas/uk_analysis/duplicated_samples.txt\", header=None)"
   ]
  },
  {
   "cell_type": "code",
   "execution_count": 15,
   "metadata": {},
   "outputs": [],
   "source": [
    "#print(len(cases_dup))"
   ]
  },
  {
   "cell_type": "code",
   "execution_count": 16,
   "metadata": {},
   "outputs": [],
   "source": [
    "#print(cases_dup)"
   ]
  },
  {
   "cell_type": "markdown",
   "metadata": {},
   "source": [
    "Cases not included due to poor quality sequencing"
   ]
  },
  {
   "cell_type": "code",
   "execution_count": 18,
   "metadata": {},
   "outputs": [],
   "source": [
    "#bad_qual = pd.read_csv(\"I:/psivakumar/Emer_CH/gwas/uk_analysis/bad_quality_seq_not_included.txt\", header=None)"
   ]
  },
  {
   "cell_type": "code",
   "execution_count": 19,
   "metadata": {},
   "outputs": [],
   "source": [
    "#print(len(bad_qual))"
   ]
  },
  {
   "cell_type": "code",
   "execution_count": 20,
   "metadata": {},
   "outputs": [],
   "source": [
    "#print(bad_qual)"
   ]
  },
  {
   "cell_type": "markdown",
   "metadata": {},
   "source": [
    "Unexplained missing uk cases "
   ]
  },
  {
   "cell_type": "code",
   "execution_count": 22,
   "metadata": {},
   "outputs": [],
   "source": [
    "#missing_cases = pd.read_csv(\"I:/psivakumar/Emer_CH/gwas/uk_analysis/unexplained_missing_samples.txt\", header=None)"
   ]
  },
  {
   "cell_type": "code",
   "execution_count": 23,
   "metadata": {},
   "outputs": [],
   "source": [
    "#print(len(missing_cases))"
   ]
  },
  {
   "cell_type": "code",
   "execution_count": 24,
   "metadata": {},
   "outputs": [],
   "source": [
    "#print(missing_cases)"
   ]
  },
  {
   "cell_type": "markdown",
   "metadata": {},
   "source": [
    "Controls"
   ]
  },
  {
   "cell_type": "code",
   "execution_count": 25,
   "metadata": {},
   "outputs": [],
   "source": [
    "uk_controls = pd.read_csv(\"I:/psivakumar/Emer_CH/gwas/uk_analysis/ukControls.txt\", header=None)"
   ]
  },
  {
   "cell_type": "code",
   "execution_count": 26,
   "metadata": {},
   "outputs": [
    {
     "name": "stdout",
     "output_type": "stream",
     "text": [
      "5200\n"
     ]
    }
   ],
   "source": [
    "print(len(uk_controls))"
   ]
  },
  {
   "cell_type": "markdown",
   "metadata": {},
   "source": [
    "Number of variants in each original dataset"
   ]
  },
  {
   "cell_type": "markdown",
   "metadata": {},
   "source": [
    "GSA2016"
   ]
  },
  {
   "cell_type": "code",
   "execution_count": 27,
   "metadata": {},
   "outputs": [
    {
     "name": "stdout",
     "output_type": "stream",
     "text": [
      "687944 variants loaded from .bim file.\n",
      "\n",
      "480 people (305 males, 159 females, 16 ambiguous) loaded from .fam.\n",
      "\n",
      "687944 variants and 480 people pass filters and QC.\n",
      "\n"
     ]
    }
   ],
   "source": [
    "with open('I:/psivakumar/Emer_CH/gwas/uk_analysis/GSA2016_142_025_CC.log', 'r') as f:\n",
    "    for line in f.readlines():\n",
    "        if 'variant' in line or 'sample' in line or 'people' in line:\n",
    "            print(line)"
   ]
  },
  {
   "cell_type": "markdown",
   "metadata": {},
   "source": [
    "GSA2018"
   ]
  },
  {
   "cell_type": "code",
   "execution_count": 62,
   "metadata": {},
   "outputs": [
    {
     "name": "stdout",
     "output_type": "stream",
     "text": [
      "687947 variants loaded from .bim file.\n",
      "\n",
      "1032 people (653 males, 318 females, 61 ambiguous) loaded from .fam.\n",
      "\n",
      "687947 variants and 1032 people pass filters and QC.\n",
      "\n"
     ]
    }
   ],
   "source": [
    "with open('I:/psivakumar/Emer_CH/gwas/uk_analysis/GSA2018_310_025-CC.log', 'r') as f:\n",
    "    for line in f.readlines():\n",
    "        if 'variant' in line or 'sample' in line or 'people' in line:\n",
    "            print(line)"
   ]
  },
  {
   "cell_type": "markdown",
   "metadata": {},
   "source": [
    "1958 controls"
   ]
  },
  {
   "cell_type": "code",
   "execution_count": 63,
   "metadata": {},
   "outputs": [
    {
     "name": "stdout",
     "output_type": "stream",
     "text": [
      "901267 variants loaded from .bim file.\n",
      "\n",
      "2699 people (1393 males, 1306 females) loaded from .fam.\n",
      "\n",
      "901267 variants and 2699 people pass filters and QC.\n",
      "\n"
     ]
    }
   ],
   "source": [
    "with open('I:/psivakumar/Emer_CH/gwas/uk_analysis/1958controls_14.09.2018.log', 'r') as f:\n",
    "    for line in f.readlines():\n",
    "        if 'variant' in line or 'sample' in line or 'people' in line:\n",
    "            print(line)"
   ]
  },
  {
   "cell_type": "markdown",
   "metadata": {},
   "source": [
    "NBS controls "
   ]
  },
  {
   "cell_type": "code",
   "execution_count": 64,
   "metadata": {},
   "outputs": [
    {
     "name": "stdout",
     "output_type": "stream",
     "text": [
      "901662 variants loaded from .bim file.\n",
      "\n",
      "2501 people (1237 males, 1264 females) loaded from .fam.\n",
      "\n",
      "901662 variants and 2501 people pass filters and QC.\n",
      "\n"
     ]
    }
   ],
   "source": [
    "with open('I:/psivakumar/Emer_CH/gwas/uk_analysis/NBScontrols_14.09.2018.log', 'r') as f:\n",
    "    for line in f.readlines():\n",
    "        if 'variant' in line or 'sample' in line or 'people' in line:\n",
    "            print(line)"
   ]
  },
  {
   "cell_type": "code",
   "execution_count": 66,
   "metadata": {},
   "outputs": [
    {
     "name": "stdout",
     "output_type": "stream",
     "text": [
      "128964\n"
     ]
    }
   ],
   "source": [
    "with open('I:/psivakumar/Emer_CH/gwas/uk_analysis/commonSnpsToExtract.txt', 'r') as f:\n",
    "    print(len(f.readlines()))"
   ]
  },
  {
   "cell_type": "markdown",
   "metadata": {},
   "source": [
    "Merge of all datasets"
   ]
  },
  {
   "cell_type": "code",
   "execution_count": 28,
   "metadata": {},
   "outputs": [
    {
     "name": "stdout",
     "output_type": "stream",
     "text": [
      "128964 variants loaded from .bim file.\n",
      "\n",
      "6703 people (3583 males, 3043 females, 77 ambiguous) loaded from .fam.\n",
      "\n",
      "128964 variants and 6703 people pass filters and QC.\n",
      "\n"
     ]
    }
   ],
   "source": [
    "with open('I:/psivakumar/Emer_CH/gwas/uk_analysis/all_5_merged.log', 'r') as f:\n",
    "    for line in f.readlines():\n",
    "        if 'variant' in line or 'sample' in line or 'people' in line:\n",
    "            print(line)"
   ]
  },
  {
   "cell_type": "code",
   "execution_count": null,
   "metadata": {},
   "outputs": [],
   "source": [
    "Variants removed due to potential strand issue"
   ]
  },
  {
   "cell_type": "code",
   "execution_count": 29,
   "metadata": {},
   "outputs": [
    {
     "name": "stdout",
     "output_type": "stream",
     "text": [
      "128964 variants loaded from .bim file.\n",
      "\n",
      "6703 people (3583 males, 3043 females, 77 ambiguous) loaded from .fam.\n",
      "\n",
      "--exclude: 128858 variants remaining.\n",
      "\n",
      "128858 variants and 6703 people pass filters and QC.\n",
      "\n"
     ]
    }
   ],
   "source": [
    "with open('I:/psivakumar/Emer_CH/gwas/uk_analysis/all_6_noStrandIssue.log', 'r') as f:\n",
    "    for line in f.readlines():\n",
    "        if 'variant' in line or 'sample' in line or 'people' in line:\n",
    "            print(line)"
   ]
  },
  {
   "cell_type": "markdown",
   "metadata": {},
   "source": [
    "Split into cases and controls for further QC"
   ]
  },
  {
   "cell_type": "markdown",
   "metadata": {},
   "source": [
    "Cases"
   ]
  },
  {
   "cell_type": "code",
   "execution_count": 30,
   "metadata": {},
   "outputs": [
    {
     "name": "stdout",
     "output_type": "stream",
     "text": [
      "128858 variants loaded from .bim file.\n",
      "\n",
      "6703 people (3583 males, 3043 females, 77 ambiguous) loaded from .fam.\n",
      "\n",
      "--keep: 1040 people remaining.\n",
      "\n",
      "128858 variants and 1040 people pass filters and QC.\n",
      "\n"
     ]
    }
   ],
   "source": [
    "with open('I:/psivakumar/Emer_CH/gwas/uk_analysis/cases_7_split.log', 'r') as f:\n",
    "    for line in f.readlines():\n",
    "        if 'variant' in line or 'people' in line:\n",
    "            print(line)"
   ]
  },
  {
   "cell_type": "markdown",
   "metadata": {},
   "source": [
    "Controls"
   ]
  },
  {
   "cell_type": "code",
   "execution_count": 73,
   "metadata": {},
   "outputs": [
    {
     "name": "stdout",
     "output_type": "stream",
     "text": [
      "128814 variants loaded from .bim file.\n",
      "\n",
      "6703 people (3583 males, 3043 females, 77 ambiguous) loaded from .fam.\n",
      "\n",
      "--keep: 5200 people remaining.\n",
      "\n",
      "128814 variants and 5200 people pass filters and QC.\n",
      "\n"
     ]
    }
   ],
   "source": [
    "with open('I:/psivakumar/Emer_CH/gwas/uk_analysis/controls_7_split.log', 'r') as f:\n",
    "    for line in f.readlines():\n",
    "        if 'variant' in line or 'people' in line:\n",
    "            print(line)"
   ]
  },
  {
   "cell_type": "markdown",
   "metadata": {},
   "source": [
    "After removing SNPs with high missingness"
   ]
  },
  {
   "cell_type": "markdown",
   "metadata": {},
   "source": [
    "Cases"
   ]
  },
  {
   "cell_type": "code",
   "execution_count": 31,
   "metadata": {},
   "outputs": [
    {
     "name": "stdout",
     "output_type": "stream",
     "text": [
      "128858 variants loaded from .bim file.\n",
      "\n",
      "1040 people (621 males, 346 females, 73 ambiguous) loaded from .fam.\n",
      "\n",
      "2047 variants removed due to missing genotype data (--geno).\n",
      "\n",
      "126811 variants and 1040 people pass filters and QC.\n",
      "\n"
     ]
    }
   ],
   "source": [
    "with open('I:/psivakumar/Emer_CH/gwas/uk_analysis/cases_8_snps95.log', 'r') as f:\n",
    "    for line in f.readlines():\n",
    "        if 'variant' in line or 'people' in line:\n",
    "            print(line)"
   ]
  },
  {
   "cell_type": "markdown",
   "metadata": {},
   "source": [
    "Controls"
   ]
  },
  {
   "cell_type": "code",
   "execution_count": 32,
   "metadata": {},
   "outputs": [
    {
     "name": "stdout",
     "output_type": "stream",
     "text": [
      "128858 variants loaded from .bim file.\n",
      "\n",
      "5200 people (2630 males, 2570 females) loaded from .fam.\n",
      "\n",
      "0 variants removed due to missing genotype data (--geno).\n",
      "\n",
      "128858 variants and 5200 people pass filters and QC.\n",
      "\n"
     ]
    }
   ],
   "source": [
    "with open('I:/psivakumar/Emer_CH/gwas/uk_analysis/controls_8_snps95.log', 'r') as f:\n",
    "    for line in f.readlines():\n",
    "        if 'variant' in line or 'people' in line:\n",
    "            print(line)"
   ]
  },
  {
   "cell_type": "markdown",
   "metadata": {},
   "source": [
    "After removing individuals with missingness > 2%"
   ]
  },
  {
   "cell_type": "markdown",
   "metadata": {},
   "source": [
    "Cases"
   ]
  },
  {
   "cell_type": "code",
   "execution_count": 33,
   "metadata": {},
   "outputs": [
    {
     "name": "stdout",
     "output_type": "stream",
     "text": [
      "126811 variants loaded from .bim file.\n",
      "\n",
      "1040 people (621 males, 346 females, 73 ambiguous) loaded from .fam.\n",
      "\n",
      "49 people removed due to missing genotype data (--mind).\n",
      "\n",
      "126811 variants and 991 people pass filters and QC.\n",
      "\n"
     ]
    }
   ],
   "source": [
    "with open('I:/psivakumar/Emer_CH/gwas/uk_analysis/cases_9_ind98.log', 'r') as f:\n",
    "    for line in f.readlines():\n",
    "        if 'variant' in line or 'people' in line:\n",
    "            print(line)"
   ]
  },
  {
   "cell_type": "code",
   "execution_count": null,
   "metadata": {},
   "outputs": [],
   "source": [
    "Controls"
   ]
  },
  {
   "cell_type": "code",
   "execution_count": 34,
   "metadata": {},
   "outputs": [
    {
     "name": "stdout",
     "output_type": "stream",
     "text": [
      "128858 variants loaded from .bim file.\n",
      "\n",
      "5200 people (2630 males, 2570 females) loaded from .fam.\n",
      "\n",
      "0 people removed due to missing genotype data (--mind).\n",
      "\n",
      "128858 variants and 5200 people pass filters and QC.\n",
      "\n"
     ]
    }
   ],
   "source": [
    "with open('I:/psivakumar/Emer_CH/gwas/uk_analysis/controls_9_ind98.log', 'r') as f:\n",
    "    for line in f.readlines():\n",
    "        if 'variant' in line or 'people' in line:\n",
    "            print(line)"
   ]
  },
  {
   "cell_type": "markdown",
   "metadata": {},
   "source": [
    "Sex check"
   ]
  },
  {
   "cell_type": "markdown",
   "metadata": {},
   "source": [
    "Cases failed sex check"
   ]
  },
  {
   "cell_type": "code",
   "execution_count": 36,
   "metadata": {},
   "outputs": [],
   "source": [
    "#cases_sexcheck = pd.read_csv(\"I:/psivakumar/Emer_CH/gwas/uk_analysis/caseFailSexCheck.txt\", header=None)"
   ]
  },
  {
   "cell_type": "code",
   "execution_count": 37,
   "metadata": {},
   "outputs": [],
   "source": [
    "#print(len(cases_sexcheck))"
   ]
  },
  {
   "cell_type": "code",
   "execution_count": 38,
   "metadata": {},
   "outputs": [],
   "source": [
    "#print(cases_sexcheck)"
   ]
  },
  {
   "cell_type": "markdown",
   "metadata": {},
   "source": [
    "Removed failed sex check samples"
   ]
  },
  {
   "cell_type": "code",
   "execution_count": 39,
   "metadata": {},
   "outputs": [
    {
     "name": "stdout",
     "output_type": "stream",
     "text": [
      "126811 variants loaded from .bim file.\n",
      "\n",
      "991 people (595 males, 330 females, 66 ambiguous) loaded from .fam.\n",
      "\n",
      "126811 variants and 991 people pass filters and QC.\n",
      "\n",
      "--impute-sex: 3787 Xchr and 0 Ychr variant(s) scanned, all sexes imputed.\n",
      "\n"
     ]
    }
   ],
   "source": [
    "with open('I:/psivakumar/Emer_CH/gwas/uk_analysis/cases_10_sexChecked.log', 'r') as f:\n",
    "    for line in f.readlines():\n",
    "        if 'variant' in line or 'people' in line:\n",
    "            print(line)"
   ]
  },
  {
   "cell_type": "raw",
   "metadata": {},
   "source": [
    "Controls sex check fail"
   ]
  },
  {
   "cell_type": "code",
   "execution_count": 40,
   "metadata": {},
   "outputs": [
    {
     "data": {
      "text/plain": [
       "0"
      ]
     },
     "execution_count": 40,
     "metadata": {},
     "output_type": "execute_result"
    }
   ],
   "source": [
    "0"
   ]
  },
  {
   "cell_type": "markdown",
   "metadata": {},
   "source": [
    "Control samples remaining"
   ]
  },
  {
   "cell_type": "code",
   "execution_count": 41,
   "metadata": {},
   "outputs": [
    {
     "name": "stdout",
     "output_type": "stream",
     "text": [
      "128858 variants loaded from .bim file.\n",
      "\n",
      "5200 people (2630 males, 2570 females) loaded from .fam.\n",
      "\n",
      "128858 variants and 5200 people pass filters and QC.\n",
      "\n",
      "--impute-sex: 4472 Xchr and 0 Ychr variant(s) scanned, all sexes imputed.\n",
      "\n"
     ]
    }
   ],
   "source": [
    "with open('I:/psivakumar/Emer_CH/gwas/uk_analysis/controls_10_sexChecked.log', 'r') as f:\n",
    "    for line in f.readlines():\n",
    "        if 'variant' in line or 'people' in line:\n",
    "            print(line)"
   ]
  },
  {
   "cell_type": "markdown",
   "metadata": {},
   "source": [
    "Stricter SNP missingness threshold 0.98"
   ]
  },
  {
   "cell_type": "markdown",
   "metadata": {},
   "source": [
    "Cases"
   ]
  },
  {
   "cell_type": "code",
   "execution_count": 42,
   "metadata": {},
   "outputs": [
    {
     "name": "stdout",
     "output_type": "stream",
     "text": [
      "126811 variants loaded from .bim file.\n",
      "\n",
      "991 people (641 males, 350 females) loaded from .fam.\n",
      "\n",
      "1522 variants removed due to missing genotype data (--geno).\n",
      "\n",
      "125289 variants and 991 people pass filters and QC.\n",
      "\n"
     ]
    }
   ],
   "source": [
    "with open('I:/psivakumar/Emer_CH/gwas/uk_analysis/cases_11_snps98.log', 'r') as f:\n",
    "    for line in f.readlines():\n",
    "        if 'variant' in line or 'people' in line:\n",
    "            print(line)"
   ]
  },
  {
   "cell_type": "markdown",
   "metadata": {},
   "source": [
    "Controls"
   ]
  },
  {
   "cell_type": "code",
   "execution_count": 43,
   "metadata": {},
   "outputs": [
    {
     "name": "stdout",
     "output_type": "stream",
     "text": [
      "126811 variants loaded from .bim file.\n",
      "\n",
      "991 people (641 males, 350 females) loaded from .fam.\n",
      "\n",
      "1522 variants removed due to missing genotype data (--geno).\n",
      "\n",
      "125289 variants and 991 people pass filters and QC.\n",
      "\n"
     ]
    }
   ],
   "source": [
    "with open('I:/psivakumar/Emer_CH/gwas/uk_analysis/cases_11_snps98.log', 'r') as f:\n",
    "    for line in f.readlines():\n",
    "        if 'variant' in line or 'people' in line:\n",
    "            print(line)"
   ]
  },
  {
   "cell_type": "code",
   "execution_count": null,
   "metadata": {},
   "outputs": [],
   "source": [
    "HWE check"
   ]
  },
  {
   "cell_type": "code",
   "execution_count": null,
   "metadata": {},
   "outputs": [],
   "source": [
    "Cases"
   ]
  },
  {
   "cell_type": "code",
   "execution_count": 44,
   "metadata": {},
   "outputs": [
    {
     "name": "stdout",
     "output_type": "stream",
     "text": [
      "125289 variants loaded from .bim file.\n",
      "\n",
      "991 people (641 males, 350 females) loaded from .fam.\n",
      "\n",
      "--hwe: 191 variants removed due to Hardy-Weinberg exact test.\n",
      "\n",
      "125098 variants and 991 people pass filters and QC.\n",
      "\n"
     ]
    }
   ],
   "source": [
    "with open('I:/psivakumar/Emer_CH/gwas/uk_analysis/cases_12_hwe.log', 'r') as f:\n",
    "    for line in f.readlines():\n",
    "        if 'variant' in line or 'people' in line:\n",
    "            print(line)"
   ]
  },
  {
   "cell_type": "markdown",
   "metadata": {},
   "source": [
    "Controls"
   ]
  },
  {
   "cell_type": "code",
   "execution_count": 45,
   "metadata": {},
   "outputs": [
    {
     "name": "stdout",
     "output_type": "stream",
     "text": [
      "128595 variants loaded from .bim file.\n",
      "\n",
      "5200 people (2630 males, 2570 females) loaded from .fam.\n",
      "\n",
      "--hwe: 58 variants removed due to Hardy-Weinberg exact test.\n",
      "\n",
      "128537 variants and 5200 people pass filters and QC.\n",
      "\n"
     ]
    }
   ],
   "source": [
    "with open('I:/psivakumar/Emer_CH/gwas/uk_analysis/controls_12_hwe.log', 'r') as f:\n",
    "    for line in f.readlines():\n",
    "        if 'variant' in line or 'people' in line:\n",
    "            print(line)"
   ]
  },
  {
   "cell_type": "markdown",
   "metadata": {},
   "source": [
    "Re-merge cases and controls"
   ]
  },
  {
   "cell_type": "code",
   "execution_count": 46,
   "metadata": {},
   "outputs": [
    {
     "name": "stdout",
     "output_type": "stream",
     "text": [
      "Performing single-pass merge (6191 people, 128806 variants).\n",
      "\n",
      "128806 variants loaded from .bim file.\n",
      "\n",
      "6191 people (3271 males, 2920 females) loaded from .fam.\n",
      "\n",
      "6191 phenotype values loaded from .fam.\n",
      "\n",
      "128806 variants and 6191 people pass filters and QC.\n",
      "\n",
      "Among remaining phenotypes, 991 are cases and 5200 are controls.\n",
      "\n"
     ]
    }
   ],
   "source": [
    "with open('I:/psivakumar/Emer_CH/gwas/uk_analysis/all_13_remerge.log', 'r') as f:\n",
    "    for line in f.readlines():\n",
    "        if 'variant' in line or 'people' in line or 'phenotype' in line:\n",
    "            print(line)"
   ]
  },
  {
   "cell_type": "markdown",
   "metadata": {},
   "source": [
    "Filter SNPs 98% over all"
   ]
  },
  {
   "cell_type": "code",
   "execution_count": 122,
   "metadata": {},
   "outputs": [
    {
     "name": "stdout",
     "output_type": "stream",
     "text": [
      "128764 variants loaded from .bim file.\n",
      "\n",
      "5962 people (3129 males, 2833 females) loaded from .fam.\n",
      "\n",
      "5962 phenotype values loaded from .fam.\n",
      "\n",
      "3525 variants removed due to missing genotype data (--geno).\n",
      "\n",
      "125239 variants and 5962 people pass filters and QC.\n",
      "\n",
      "Among remaining phenotypes, 768 are cases and 5194 are controls.\n",
      "\n"
     ]
    }
   ],
   "source": [
    "with open('I:/psivakumar/Emer_CH/gwas/uk_analysis/all_14_snps98.log', 'r') as f:\n",
    "    for line in f.readlines():\n",
    "        if 'variant' in line or 'people' in line or 'phenotype' in line:\n",
    "            print(line)"
   ]
  },
  {
   "cell_type": "markdown",
   "metadata": {},
   "source": [
    "Filter individuals missiningness 98% over all "
   ]
  },
  {
   "cell_type": "code",
   "execution_count": 48,
   "metadata": {},
   "outputs": [
    {
     "name": "stdout",
     "output_type": "stream",
     "text": [
      "124829 variants loaded from .bim file.\n",
      "\n",
      "6191 people (3271 males, 2920 females) loaded from .fam.\n",
      "\n",
      "6191 phenotype values loaded from .fam.\n",
      "\n",
      "13 people removed due to missing genotype data (--mind).\n",
      "\n",
      "124829 variants and 6178 people pass filters and QC.\n",
      "\n",
      "Among remaining phenotypes, 985 are cases and 5193 are controls.\n",
      "\n"
     ]
    }
   ],
   "source": [
    "with open('I:/psivakumar/Emer_CH/gwas/uk_analysis/all_15_ind98.log', 'r') as f:\n",
    "    for line in f.readlines():\n",
    "        if 'variant' in line or 'people' in line or 'phenotype' in line:\n",
    "            print(line)"
   ]
  },
  {
   "cell_type": "markdown",
   "metadata": {},
   "source": [
    "Remove any more HWE outlier variants"
   ]
  },
  {
   "cell_type": "code",
   "execution_count": 50,
   "metadata": {},
   "outputs": [
    {
     "name": "stdout",
     "output_type": "stream",
     "text": [
      "124829 variants loaded from .bim file.\n",
      "\n",
      "6178 people (3262 males, 2916 females) loaded from .fam.\n",
      "\n",
      "6178 phenotype values loaded from .fam.\n",
      "\n",
      "--hwe: 0 variants removed due to Hardy-Weinberg exact test.\n",
      "\n",
      "124829 variants and 6178 people pass filters and QC.\n",
      "\n",
      "Among remaining phenotypes, 985 are cases and 5193 are controls.\n",
      "\n"
     ]
    }
   ],
   "source": [
    "with open('I:/psivakumar/Emer_CH/gwas/uk_analysis/all_17_hwe.log', 'r') as f:\n",
    "    for line in f.readlines():\n",
    "        if 'variant' in line or 'people' in line or 'phenotype' in line:\n",
    "            print(line)"
   ]
  },
  {
   "cell_type": "markdown",
   "metadata": {},
   "source": [
    "Remove het outliers"
   ]
  },
  {
   "cell_type": "markdown",
   "metadata": {},
   "source": [
    "Het outliers"
   ]
  },
  {
   "cell_type": "code",
   "execution_count": 51,
   "metadata": {},
   "outputs": [],
   "source": [
    "het_outliers = pd.read_csv(\"I:/psivakumar/Emer_CH/gwas/uk_analysis/hetOutliersToRemove.txt\", header=None, sep='\\t')"
   ]
  },
  {
   "cell_type": "code",
   "execution_count": 52,
   "metadata": {},
   "outputs": [
    {
     "name": "stdout",
     "output_type": "stream",
     "text": [
      "25\n"
     ]
    }
   ],
   "source": [
    "print(len(het_outliers))"
   ]
  },
  {
   "cell_type": "code",
   "execution_count": 53,
   "metadata": {},
   "outputs": [
    {
     "name": "stdout",
     "output_type": "stream",
     "text": [
      "         0       1      2      3       4        5         6\n",
      "0    62036   62036  79705  81610  121030 -0.04839  0.341444\n",
      "1    62111   62111  74740  81610  121034 -0.17430  0.382488\n",
      "2    66558   66558  76337  81600  121017 -0.13350  0.369204\n",
      "3    66573   66573  79338  81610  121026 -0.05757  0.344455\n",
      "4    71299   71299  76326  81570  120976 -0.13320  0.369081\n",
      "5    73016   73016  85307  81580  120981  0.09470  0.294873\n",
      "6    73852   73852  84384  81570  120976  0.07138  0.302473\n",
      "7    75542   75542  78064  81600  121013 -0.08966  0.354912\n",
      "8    76535   76535  83890  81560  120960  0.05908  0.306465\n",
      "9    77012   77012  83604  81590  121007  0.05102  0.309098\n",
      "10   77540   77540  83700  81590  120999  0.05359  0.308259\n",
      "11   79161   79161  79757  81580  120993 -0.04635  0.340813\n",
      "12   82225   82225  79386  81580  120995 -0.05579  0.343890\n",
      "13   82541   82541  78714  81580  120992 -0.07281  0.349428\n",
      "14   86047   86047  77823  81560  120953 -0.09481  0.356585\n",
      "15   87465   87465  79407  81590  121000 -0.05540  0.343744\n",
      "16   92256   92256  84122  81620  121045  0.06347  0.305035\n",
      "17   99789   99789  76695  81590  121002 -0.12430  0.366168\n",
      "18  103234  103234  78126  81590  120997 -0.08782  0.354315\n",
      "19  104062  104062  75797  81610  121028 -0.14740  0.373723\n",
      "20  105746  105746  79422  81570  120976 -0.05461  0.343490\n",
      "21  106179  106179  78808  81590  121004 -0.07067  0.348716\n",
      "22  CH0005  CH0005  77777  81380  120688 -0.09160  0.355553\n",
      "23   T8293   T8293  79703  81610  121035 -0.04839  0.341488\n",
      "24   T8300   T8300  74856  81590  120996 -0.17080  0.381335\n"
     ]
    }
   ],
   "source": [
    "print(het_outliers)"
   ]
  },
  {
   "cell_type": "code",
   "execution_count": 54,
   "metadata": {},
   "outputs": [
    {
     "name": "stdout",
     "output_type": "stream",
     "text": [
      "124829 variants loaded from .bim file.\n",
      "\n",
      "6178 people (3262 males, 2916 females) loaded from .fam.\n",
      "\n",
      "6178 phenotype values loaded from .fam.\n",
      "\n",
      "--remove: 6153 people remaining.\n",
      "\n",
      "124829 variants and 6153 people pass filters and QC.\n",
      "\n",
      "Among remaining phenotypes, 960 are cases and 5193 are controls.\n",
      "\n"
     ]
    }
   ],
   "source": [
    "with open('I:/psivakumar/Emer_CH/gwas/uk_analysis/all_18_noHetOutliers.log', 'r') as f:\n",
    "    for line in f.readlines():\n",
    "        if 'variant' in line or 'people' in line or 'phenotype' in line:\n",
    "            print(line)"
   ]
  },
  {
   "cell_type": "markdown",
   "metadata": {},
   "source": [
    "Remove high LD regions and prune "
   ]
  },
  {
   "cell_type": "code",
   "execution_count": 55,
   "metadata": {},
   "outputs": [
    {
     "name": "stdout",
     "output_type": "stream",
     "text": [
      "124829 variants loaded from .bim file.\n",
      "\n",
      "6153 people (3245 males, 2908 females) loaded from .fam.\n",
      "\n",
      "6153 phenotype values loaded from .fam.\n",
      "\n",
      "--exclude: 121129 variants remaining.\n",
      "\n",
      "121129 variants and 6153 people pass filters and QC.\n",
      "\n",
      "Among remaining phenotypes, 960 are cases and 5193 are controls.\n",
      "\n"
     ]
    }
   ],
   "source": [
    "with open('I:/psivakumar/Emer_CH/gwas/uk_analysis/all_19_noHighLD.log', 'r') as f:\n",
    "    for line in f.readlines():\n",
    "        if 'variant' in line or 'people' in line or 'phenotype' in line:\n",
    "            print(line)"
   ]
  },
  {
   "cell_type": "markdown",
   "metadata": {},
   "source": [
    "Remove duplicates/twins"
   ]
  },
  {
   "cell_type": "code",
   "execution_count": 56,
   "metadata": {},
   "outputs": [],
   "source": [
    "dup_samples = pd.read_csv(\"I:/psivakumar/Emer_CH/gwas/uk_analysis/duplicateSamples.txt\", header=None)"
   ]
  },
  {
   "cell_type": "code",
   "execution_count": 57,
   "metadata": {},
   "outputs": [
    {
     "name": "stdout",
     "output_type": "stream",
     "text": [
      "58\n"
     ]
    }
   ],
   "source": [
    "print(len(dup_samples))"
   ]
  },
  {
   "cell_type": "code",
   "execution_count": 58,
   "metadata": {},
   "outputs": [
    {
     "name": "stdout",
     "output_type": "stream",
     "text": [
      "                            0\n",
      "0                 57948 57948\n",
      "1                 60518 60518\n",
      "2                 60840 60840\n",
      "3                 61191 61191\n",
      "4                 61374 61374\n",
      "5                 61418 61418\n",
      "6                 61615 61615\n",
      "7                 62146 62146\n",
      "8                 62418 62418\n",
      "9                 63443 63443\n",
      "10                63900 63900\n",
      "11                63959 63959\n",
      "12                64220 64220\n",
      "13                64247 64247\n",
      "14                65283 65283\n",
      "15                65780 65780\n",
      "16                65994 65994\n",
      "17                66228 66228\n",
      "18                69067 69067\n",
      "19                70314 70314\n",
      "20                70799 70799\n",
      "21                71191 71191\n",
      "22                71857 71857\n",
      "23                71858 71858\n",
      "24                72025 72025\n",
      "25                72026 72026\n",
      "26                72858 72858\n",
      "27                73241 73241\n",
      "28                73912 73912\n",
      "29                74277 74277\n",
      "30                76777 76777\n",
      "31                81267 81267\n",
      "32                85748 85748\n",
      "33                89314 89314\n",
      "34                90025 90025\n",
      "35                90238 90238\n",
      "36                93659 93659\n",
      "37                94534 94534\n",
      "38                94673 94673\n",
      "39                95533 95533\n",
      "40                95534 95534\n",
      "41                95538 95538\n",
      "42                96285 96285\n",
      "43                96888 96888\n",
      "44              100316 100316\n",
      "45              100374 100374\n",
      "46              100631 100631\n",
      "47              101314 101314\n",
      "48              101715 101715\n",
      "49              101777 101777\n",
      "50              102975 102975\n",
      "51              103485 103485\n",
      "52              104048 104048\n",
      "53              105828 105828\n",
      "54              105847 105847\n",
      "55              105847 105847\n",
      "56              CH0014 CH0014\n",
      "57  WTCCCT442838 WTCCCT442838\n"
     ]
    }
   ],
   "source": [
    "print(dup_samples)"
   ]
  },
  {
   "cell_type": "code",
   "execution_count": 59,
   "metadata": {},
   "outputs": [
    {
     "name": "stdout",
     "output_type": "stream",
     "text": [
      "121129 variants loaded from .bim file.\n",
      "\n",
      "6096 people (3202 males, 2894 females) loaded from .fam.\n",
      "\n",
      "6096 phenotype values loaded from .fam.\n",
      "\n",
      "121129 variants and 6096 people pass filters and QC.\n",
      "\n",
      "Among remaining phenotypes, 904 are cases and 5192 are controls.\n",
      "\n"
     ]
    }
   ],
   "source": [
    "with open('I:/psivakumar/Emer_CH/gwas/uk_analysis/all_20_noDups.log', 'r') as f:\n",
    "    for line in f.readlines():\n",
    "        if 'variant' in line or 'people' in line or 'phenotype' in line:\n",
    "            print(line)"
   ]
  },
  {
   "cell_type": "markdown",
   "metadata": {},
   "source": [
    "PCA outliers"
   ]
  },
  {
   "cell_type": "markdown",
   "metadata": {},
   "source": [
    "European"
   ]
  },
  {
   "cell_type": "code",
   "execution_count": 64,
   "metadata": {},
   "outputs": [],
   "source": [
    "european = pd.read_csv(\"I:/psivakumar/Emer_CH/gwas/uk_analysis/european_to_keep.txt\", header=None)"
   ]
  },
  {
   "cell_type": "code",
   "execution_count": 65,
   "metadata": {},
   "outputs": [
    {
     "name": "stdout",
     "output_type": "stream",
     "text": [
      "5983\n"
     ]
    }
   ],
   "source": [
    "print(len(european))"
   ]
  },
  {
   "cell_type": "code",
   "execution_count": 66,
   "metadata": {},
   "outputs": [
    {
     "name": "stdout",
     "output_type": "stream",
     "text": [
      "121129 variants loaded from .bim file.\n",
      "\n",
      "6096 people (3202 males, 2894 females) loaded from .fam.\n",
      "\n",
      "6096 phenotype values loaded from .fam.\n",
      "\n",
      "--keep: 5983 people remaining.\n",
      "\n",
      "121129 variants and 5983 people pass filters and QC.\n",
      "\n",
      "Among remaining phenotypes, 850 are cases and 5133 are controls.\n",
      "\n"
     ]
    }
   ],
   "source": [
    "with open('I:/psivakumar/Emer_CH/gwas/uk_analysis/all_21_european.log', 'r') as f:\n",
    "    for line in f.readlines():\n",
    "        if 'variant' in line or 'people' in line  or 'phenotype' in line:\n",
    "            print(line)"
   ]
  },
  {
   "cell_type": "code",
   "execution_count": 60,
   "metadata": {},
   "outputs": [],
   "source": [
    "pca_outliers = pd.read_csv(\"I:/psivakumar/Emer_CH/gwas/uk_analysis/pcaSamplesToRemove.txt\", header=None, sep='\\t')"
   ]
  },
  {
   "cell_type": "code",
   "execution_count": 61,
   "metadata": {},
   "outputs": [
    {
     "name": "stdout",
     "output_type": "stream",
     "text": [
      "91\n"
     ]
    }
   ],
   "source": [
    "print(len(pca_outliers))"
   ]
  },
  {
   "cell_type": "code",
   "execution_count": 62,
   "metadata": {},
   "outputs": [
    {
     "name": "stdout",
     "output_type": "stream",
     "text": [
      "               0             1\n",
      "0          90729         90729\n",
      "1         105978        105978\n",
      "2         105979        105979\n",
      "3         106040        106040\n",
      "4         106084        106084\n",
      "5          60940         60940\n",
      "6          61268         61268\n",
      "7          61682         61682\n",
      "8          62033         62033\n",
      "9          62228         62228\n",
      "10         62460         62460\n",
      "11         62951         62951\n",
      "12         66087         66087\n",
      "13         66411         66411\n",
      "14         67118         67118\n",
      "15         67453         67453\n",
      "16         69359         69359\n",
      "17         72024         72024\n",
      "18         76679         76679\n",
      "19         77879         77879\n",
      "20         79241         79241\n",
      "21         80128         80128\n",
      "22         88133         88133\n",
      "23         89832         89832\n",
      "24         90234         90234\n",
      "25         90491         90491\n",
      "26         91300         91300\n",
      "27         94978         94978\n",
      "28         95655         95655\n",
      "29         95743         95743\n",
      "..           ...           ...\n",
      "61        CH0003        CH0003\n",
      "62          CH64          CH64\n",
      "63          CH84          CH84\n",
      "64         T8286         T8286\n",
      "65         T8287         T8287\n",
      "66         T8288         T8288\n",
      "67        T20578        T20578\n",
      "68    WTCCC88587    WTCCC88587\n",
      "69  WTCCCT443199  WTCCCT443199\n",
      "70  WTCCCT444461  WTCCCT444461\n",
      "71  WTCCCT444658  WTCCCT444658\n",
      "72  WTCCCT444694  WTCCCT444694\n",
      "73  WTCCCT510466  WTCCCT510466\n",
      "74  WTCCCT511035  WTCCCT511035\n",
      "75  WTCCCT511130  WTCCCT511130\n",
      "76  WTCCCT542200  WTCCCT542200\n",
      "77  WTCCCT542451  WTCCCT542451\n",
      "78  WTCCCT542604  WTCCCT542604\n",
      "79  WTCCCT543422  WTCCCT543422\n",
      "80        104043        104043\n",
      "81        104050        104050\n",
      "82        106065        106065\n",
      "83         95683         95683\n",
      "84   BLOOD291731   BLOOD291731\n",
      "85   BLOOD293514   BLOOD293514\n",
      "86          CH54          CH54\n",
      "87  WTCCCT443436  WTCCCT443436\n",
      "88  WTCCCT510389  WTCCCT510389\n",
      "89  WTCCCT542478  WTCCCT542478\n",
      "90  WTCCCT543403  WTCCCT543403\n",
      "\n",
      "[91 rows x 2 columns]\n"
     ]
    }
   ],
   "source": [
    "print(pca_outliers)"
   ]
  },
  {
   "cell_type": "code",
   "execution_count": 67,
   "metadata": {},
   "outputs": [
    {
     "name": "stdout",
     "output_type": "stream",
     "text": [
      "121129 variants loaded from .bim file.\n",
      "\n",
      "5983 people (3135 males, 2848 females) loaded from .fam.\n",
      "\n",
      "5983 phenotype values loaded from .fam.\n",
      "\n",
      "--remove: 5892 people remaining.\n",
      "\n",
      "121129 variants and 5892 people pass filters and QC.\n",
      "\n",
      "Among remaining phenotypes, 779 are cases and 5113 are controls.\n",
      "\n"
     ]
    }
   ],
   "source": [
    "with open('I:/psivakumar/Emer_CH/gwas/uk_analysis/all_22_pcaCleaned.log', 'r') as f:\n",
    "    for line in f.readlines():\n",
    "        if 'variant' in line or 'people' in line  or 'phenotype' in line:\n",
    "            print(line)"
   ]
  },
  {
   "cell_type": "markdown",
   "metadata": {},
   "source": [
    "Exclude SNPs with sig diff genotyping rate"
   ]
  },
  {
   "cell_type": "code",
   "execution_count": 68,
   "metadata": {},
   "outputs": [
    {
     "name": "stdout",
     "output_type": "stream",
     "text": [
      "121129 variants loaded from .bim file.\n",
      "\n",
      "5892 people (3077 males, 2815 females) loaded from .fam.\n",
      "\n",
      "5892 phenotype values loaded from .fam.\n",
      "\n",
      "--exclude: 119011 variants remaining.\n",
      "\n",
      "119011 variants and 5892 people pass filters and QC.\n",
      "\n",
      "Among remaining phenotypes, 779 are cases and 5113 are controls.\n",
      "\n"
     ]
    }
   ],
   "source": [
    "with open('I:/psivakumar/Emer_CH/gwas/uk_analysis/all_23_noSigDiffGeno.log', 'r') as f:\n",
    "    for line in f.readlines():\n",
    "        if 'variant' in line or 'people' in line or 'phenotype' in line:\n",
    "            print(line)"
   ]
  },
  {
   "cell_type": "code",
   "execution_count": null,
   "metadata": {},
   "outputs": [],
   "source": []
  }
 ],
 "metadata": {
  "kernelspec": {
   "display_name": "Python 3",
   "language": "python",
   "name": "python3"
  },
  "language_info": {
   "codemirror_mode": {
    "name": "ipython",
    "version": 3
   },
   "file_extension": ".py",
   "mimetype": "text/x-python",
   "name": "python",
   "nbconvert_exporter": "python",
   "pygments_lexer": "ipython3",
   "version": "3.7.3"
  }
 },
 "nbformat": 4,
 "nbformat_minor": 2
}
