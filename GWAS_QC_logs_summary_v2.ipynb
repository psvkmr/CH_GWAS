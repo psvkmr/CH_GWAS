{
 "cells": [
  {
   "cell_type": "code",
   "execution_count": 11,
   "metadata": {},
   "outputs": [],
   "source": [
    "import pandas as pd\n",
    "import re\n",
    "import os\n",
    "os.chdir(\"I:/psivakumar/Emer_CH/gwas/uk_analysis/\")"
   ]
  },
  {
   "cell_type": "markdown",
   "metadata": {},
   "source": [
    "Cases from uk sample sheet"
   ]
  },
  {
   "cell_type": "code",
   "execution_count": 6,
   "metadata": {},
   "outputs": [],
   "source": [
    "uk_samples = pd.read_csv(\"I:/psivakumar/Emer_CH/gwas/samplesheet_UK_only_final.csv\")"
   ]
  },
  {
   "cell_type": "code",
   "execution_count": 7,
   "metadata": {},
   "outputs": [
    {
     "name": "stdout",
     "output_type": "stream",
     "text": [
      "1041\n"
     ]
    }
   ],
   "source": [
    "print(len(uk_samples))"
   ]
  },
  {
   "cell_type": "markdown",
   "metadata": {},
   "source": [
    "Cases used in original plink files"
   ]
  },
  {
   "cell_type": "code",
   "execution_count": 12,
   "metadata": {},
   "outputs": [],
   "source": [
    "uk_cases_used = pd.read_csv(\"ukCases.txt\", header=None)"
   ]
  },
  {
   "cell_type": "code",
   "execution_count": 13,
   "metadata": {},
   "outputs": [
    {
     "name": "stdout",
     "output_type": "stream",
     "text": [
      "1094\n"
     ]
    }
   ],
   "source": [
    "print(len(uk_cases_used))"
   ]
  },
  {
   "cell_type": "markdown",
   "metadata": {},
   "source": [
    "Cases removed due to duplicate entries"
   ]
  },
  {
   "cell_type": "code",
   "execution_count": 14,
   "metadata": {},
   "outputs": [],
   "source": [
    "cases_dup = pd.read_csv(\"duplicated_samples.txt\", header=None)"
   ]
  },
  {
   "cell_type": "code",
   "execution_count": 15,
   "metadata": {},
   "outputs": [
    {
     "name": "stdout",
     "output_type": "stream",
     "text": [
      "9\n"
     ]
    }
   ],
   "source": [
    "print(len(cases_dup))"
   ]
  },
  {
   "cell_type": "code",
   "execution_count": 16,
   "metadata": {},
   "outputs": [
    {
     "name": "stdout",
     "output_type": "stream",
     "text": [
      "        0\n",
      "0   96843\n",
      "1   96844\n",
      "2   65920\n",
      "3   68048\n",
      "4   67695\n",
      "5   64247\n",
      "6   96845\n",
      "7  101172\n",
      "8  103485\n"
     ]
    }
   ],
   "source": [
    "print(cases_dup)"
   ]
  },
  {
   "cell_type": "markdown",
   "metadata": {},
   "source": [
    "Cases not included due to poor quality sequencing"
   ]
  },
  {
   "cell_type": "code",
   "execution_count": 18,
   "metadata": {},
   "outputs": [],
   "source": [
    "#bad_qual = pd.read_csv(\"I:/psivakumar/Emer_CH/gwas/uk_analysis/bad_quality_seq_not_included.txt\", header=None)"
   ]
  },
  {
   "cell_type": "code",
   "execution_count": 19,
   "metadata": {},
   "outputs": [],
   "source": [
    "#print(len(bad_qual))"
   ]
  },
  {
   "cell_type": "code",
   "execution_count": 20,
   "metadata": {},
   "outputs": [],
   "source": [
    "#print(bad_qual)"
   ]
  },
  {
   "cell_type": "markdown",
   "metadata": {},
   "source": [
    "Unexplained missing uk cases "
   ]
  },
  {
   "cell_type": "code",
   "execution_count": 22,
   "metadata": {},
   "outputs": [],
   "source": [
    "#missing_cases = pd.read_csv(\"I:/psivakumar/Emer_CH/gwas/uk_analysis/unexplained_missing_samples.txt\", header=None)"
   ]
  },
  {
   "cell_type": "code",
   "execution_count": 23,
   "metadata": {},
   "outputs": [],
   "source": [
    "#print(len(missing_cases))"
   ]
  },
  {
   "cell_type": "code",
   "execution_count": 24,
   "metadata": {},
   "outputs": [],
   "source": [
    "#print(missing_cases)"
   ]
  },
  {
   "cell_type": "markdown",
   "metadata": {},
   "source": [
    "Controls"
   ]
  },
  {
   "cell_type": "code",
   "execution_count": 17,
   "metadata": {},
   "outputs": [],
   "source": [
    "uk_controls = pd.read_csv(\"ukControls.txt\", header=None)"
   ]
  },
  {
   "cell_type": "code",
   "execution_count": 18,
   "metadata": {},
   "outputs": [
    {
     "name": "stdout",
     "output_type": "stream",
     "text": [
      "5200\n"
     ]
    }
   ],
   "source": [
    "print(len(uk_controls))"
   ]
  },
  {
   "cell_type": "markdown",
   "metadata": {},
   "source": [
    "Number of variants in each original dataset"
   ]
  },
  {
   "cell_type": "markdown",
   "metadata": {},
   "source": [
    "GSA2016"
   ]
  },
  {
   "cell_type": "code",
   "execution_count": 19,
   "metadata": {},
   "outputs": [
    {
     "name": "stdout",
     "output_type": "stream",
     "text": [
      "687944 variants loaded from .bim file.\n",
      "\n",
      "480 people (305 males, 159 females, 16 ambiguous) loaded from .fam.\n",
      "\n",
      "687944 variants and 480 people pass filters and QC.\n",
      "\n"
     ]
    }
   ],
   "source": [
    "with open('GSA2016_142_025_CC.log', 'r') as f:\n",
    "    for line in f.readlines():\n",
    "        if 'variant' in line or 'sample' in line or 'people' in line:\n",
    "            print(line)"
   ]
  },
  {
   "cell_type": "markdown",
   "metadata": {},
   "source": [
    "GSA2018"
   ]
  },
  {
   "cell_type": "code",
   "execution_count": 20,
   "metadata": {},
   "outputs": [
    {
     "name": "stdout",
     "output_type": "stream",
     "text": [
      "687947 variants loaded from .bim file.\n",
      "\n",
      "1032 people (653 males, 318 females, 61 ambiguous) loaded from .fam.\n",
      "\n",
      "687947 variants and 1032 people pass filters and QC.\n",
      "\n"
     ]
    }
   ],
   "source": [
    "with open('GSA2018_310_025-CC.log', 'r') as f:\n",
    "    for line in f.readlines():\n",
    "        if 'variant' in line or 'sample' in line or 'people' in line:\n",
    "            print(line)"
   ]
  },
  {
   "cell_type": "markdown",
   "metadata": {},
   "source": [
    "Resubmitted_cases"
   ]
  },
  {
   "cell_type": "code",
   "execution_count": 21,
   "metadata": {},
   "outputs": [
    {
     "name": "stdout",
     "output_type": "stream",
     "text": [
      "Performing single-pass .bed write (665608 variants, 66 people).\n",
      "\n",
      "665608 variants loaded from .bim file.\n",
      "\n",
      "66 people (0 males, 0 females, 66 ambiguous) loaded from .fam.\n",
      "\n",
      "665608 variants and 66 people pass filters and QC.\n",
      "\n"
     ]
    }
   ],
   "source": [
    "with open('Plate_3_Emer.log', 'r') as f:\n",
    "    for line in f.readlines():\n",
    "        if 'variant' in line or 'sample' in line or 'people' in line:\n",
    "            print(line)"
   ]
  },
  {
   "cell_type": "markdown",
   "metadata": {},
   "source": [
    "1958 controls"
   ]
  },
  {
   "cell_type": "code",
   "execution_count": 22,
   "metadata": {},
   "outputs": [
    {
     "name": "stdout",
     "output_type": "stream",
     "text": [
      "901267 variants loaded from .bim file.\n",
      "\n",
      "2699 people (1393 males, 1306 females) loaded from .fam.\n",
      "\n",
      "901267 variants and 2699 people pass filters and QC.\n",
      "\n"
     ]
    }
   ],
   "source": [
    "with open('1958controls_14.09.2018.log', 'r') as f:\n",
    "    for line in f.readlines():\n",
    "        if 'variant' in line or 'sample' in line or 'people' in line:\n",
    "            print(line)"
   ]
  },
  {
   "cell_type": "markdown",
   "metadata": {},
   "source": [
    "NBS controls "
   ]
  },
  {
   "cell_type": "code",
   "execution_count": 23,
   "metadata": {},
   "outputs": [
    {
     "name": "stdout",
     "output_type": "stream",
     "text": [
      "901662 variants loaded from .bim file.\n",
      "\n",
      "2501 people (1237 males, 1264 females) loaded from .fam.\n",
      "\n",
      "901662 variants and 2501 people pass filters and QC.\n",
      "\n"
     ]
    }
   ],
   "source": [
    "with open('NBScontrols_14.09.2018.log', 'r') as f:\n",
    "    for line in f.readlines():\n",
    "        if 'variant' in line or 'sample' in line or 'people' in line:\n",
    "            print(line)"
   ]
  },
  {
   "cell_type": "markdown",
   "metadata": {},
   "source": [
    "Number of common SNPs"
   ]
  },
  {
   "cell_type": "code",
   "execution_count": 25,
   "metadata": {},
   "outputs": [
    {
     "name": "stdout",
     "output_type": "stream",
     "text": [
      "128964\n"
     ]
    }
   ],
   "source": [
    "with open('commonSnpsToExtract.txt', 'r') as f:\n",
    "    print(len(f.readlines()))"
   ]
  },
  {
   "cell_type": "markdown",
   "metadata": {},
   "source": [
    "Merge of all datasets"
   ]
  },
  {
   "cell_type": "code",
   "execution_count": 26,
   "metadata": {},
   "outputs": [
    {
     "name": "stdout",
     "output_type": "stream",
     "text": [
      "128964 variants loaded from .bim file.\n",
      "\n",
      "6769 people (3583 males, 3043 females, 143 ambiguous) loaded from .fam.\n",
      "\n",
      "128964 variants and 6769 people pass filters and QC.\n",
      "\n"
     ]
    }
   ],
   "source": [
    "with open('all_5_merged.log', 'r') as f:\n",
    "    for line in f.readlines():\n",
    "        if 'variant' in line or 'sample' in line or 'people' in line:\n",
    "            print(line)"
   ]
  },
  {
   "cell_type": "markdown",
   "metadata": {},
   "source": [
    "Variants removed due to potential strand issue"
   ]
  },
  {
   "cell_type": "code",
   "execution_count": 28,
   "metadata": {},
   "outputs": [
    {
     "name": "stdout",
     "output_type": "stream",
     "text": [
      "128964 variants loaded from .bim file.\n",
      "\n",
      "6769 people (3583 males, 3043 females, 143 ambiguous) loaded from .fam.\n",
      "\n",
      "--exclude: 128659 variants remaining.\n",
      "\n",
      "128659 variants and 6769 people pass filters and QC.\n",
      "\n"
     ]
    }
   ],
   "source": [
    "with open('all_6_noStrandIssue.log', 'r') as f:\n",
    "    for line in f.readlines():\n",
    "        if 'variant' in line or 'sample' in line or 'people' in line:\n",
    "            print(line)"
   ]
  },
  {
   "cell_type": "markdown",
   "metadata": {},
   "source": [
    "Split into cases and controls for further QC"
   ]
  },
  {
   "cell_type": "markdown",
   "metadata": {},
   "source": [
    "Cases"
   ]
  },
  {
   "cell_type": "code",
   "execution_count": 29,
   "metadata": {},
   "outputs": [
    {
     "name": "stdout",
     "output_type": "stream",
     "text": [
      "128659 variants loaded from .bim file.\n",
      "\n",
      "6769 people (3583 males, 3043 females, 143 ambiguous) loaded from .fam.\n",
      "\n",
      "--keep: 1094 people remaining.\n",
      "\n",
      "128659 variants and 1094 people pass filters and QC.\n",
      "\n"
     ]
    }
   ],
   "source": [
    "with open('cases_7_split.log', 'r') as f:\n",
    "    for line in f.readlines():\n",
    "        if 'variant' in line or 'people' in line:\n",
    "            print(line)"
   ]
  },
  {
   "cell_type": "markdown",
   "metadata": {},
   "source": [
    "Controls"
   ]
  },
  {
   "cell_type": "code",
   "execution_count": 30,
   "metadata": {},
   "outputs": [
    {
     "name": "stdout",
     "output_type": "stream",
     "text": [
      "128659 variants loaded from .bim file.\n",
      "\n",
      "6769 people (3583 males, 3043 females, 143 ambiguous) loaded from .fam.\n",
      "\n",
      "--keep: 5200 people remaining.\n",
      "\n",
      "128659 variants and 5200 people pass filters and QC.\n",
      "\n"
     ]
    }
   ],
   "source": [
    "with open('controls_7_split.log', 'r') as f:\n",
    "    for line in f.readlines():\n",
    "        if 'variant' in line or 'people' in line:\n",
    "            print(line)"
   ]
  },
  {
   "cell_type": "markdown",
   "metadata": {},
   "source": [
    "After removing SNPs with high missingness"
   ]
  },
  {
   "cell_type": "markdown",
   "metadata": {},
   "source": [
    "Cases"
   ]
  },
  {
   "cell_type": "code",
   "execution_count": 31,
   "metadata": {},
   "outputs": [
    {
     "name": "stdout",
     "output_type": "stream",
     "text": [
      "128659 variants loaded from .bim file.\n",
      "\n",
      "1094 people (621 males, 346 females, 127 ambiguous) loaded from .fam.\n",
      "\n",
      "10898 variants removed due to missing genotype data (--geno).\n",
      "\n",
      "117761 variants and 1094 people pass filters and QC.\n",
      "\n"
     ]
    }
   ],
   "source": [
    "with open('cases_8_snps95.log', 'r') as f:\n",
    "    for line in f.readlines():\n",
    "        if 'variant' in line or 'people' in line:\n",
    "            print(line)"
   ]
  },
  {
   "cell_type": "markdown",
   "metadata": {},
   "source": [
    "Controls"
   ]
  },
  {
   "cell_type": "code",
   "execution_count": 32,
   "metadata": {},
   "outputs": [
    {
     "name": "stdout",
     "output_type": "stream",
     "text": [
      "128659 variants loaded from .bim file.\n",
      "\n",
      "5200 people (2630 males, 2570 females) loaded from .fam.\n",
      "\n",
      "0 variants removed due to missing genotype data (--geno).\n",
      "\n",
      "128659 variants and 5200 people pass filters and QC.\n",
      "\n"
     ]
    }
   ],
   "source": [
    "with open('controls_8_snps95.log', 'r') as f:\n",
    "    for line in f.readlines():\n",
    "        if 'variant' in line or 'people' in line:\n",
    "            print(line)"
   ]
  },
  {
   "cell_type": "markdown",
   "metadata": {},
   "source": [
    "After removing individuals with missingness > 2%"
   ]
  },
  {
   "cell_type": "markdown",
   "metadata": {},
   "source": [
    "Cases"
   ]
  },
  {
   "cell_type": "code",
   "execution_count": 33,
   "metadata": {},
   "outputs": [
    {
     "name": "stdout",
     "output_type": "stream",
     "text": [
      "117761 variants loaded from .bim file.\n",
      "\n",
      "1094 people (621 males, 346 females, 127 ambiguous) loaded from .fam.\n",
      "\n",
      "83 people removed due to missing genotype data (--mind).\n",
      "\n",
      "117761 variants and 1011 people pass filters and QC.\n",
      "\n"
     ]
    }
   ],
   "source": [
    "with open('cases_9_ind98.log', 'r') as f:\n",
    "    for line in f.readlines():\n",
    "        if 'variant' in line or 'people' in line:\n",
    "            print(line)"
   ]
  },
  {
   "cell_type": "code",
   "execution_count": null,
   "metadata": {},
   "outputs": [],
   "source": [
    "Controls"
   ]
  },
  {
   "cell_type": "code",
   "execution_count": 34,
   "metadata": {},
   "outputs": [
    {
     "name": "stdout",
     "output_type": "stream",
     "text": [
      "128659 variants loaded from .bim file.\n",
      "\n",
      "5200 people (2630 males, 2570 females) loaded from .fam.\n",
      "\n",
      "6 people removed due to missing genotype data (--mind).\n",
      "\n",
      "128659 variants and 5194 people pass filters and QC.\n",
      "\n"
     ]
    }
   ],
   "source": [
    "with open('controls_9_ind98.log', 'r') as f:\n",
    "    for line in f.readlines():\n",
    "        if 'variant' in line or 'people' in line:\n",
    "            print(line)"
   ]
  },
  {
   "cell_type": "markdown",
   "metadata": {},
   "source": [
    "Sex check"
   ]
  },
  {
   "cell_type": "markdown",
   "metadata": {},
   "source": [
    "Cases failed sex check"
   ]
  },
  {
   "cell_type": "code",
   "execution_count": 38,
   "metadata": {},
   "outputs": [],
   "source": [
    "#cases_sexcheck = pd.read_csv(\"caseFailSexCheck.txt\", header=None)"
   ]
  },
  {
   "cell_type": "code",
   "execution_count": 37,
   "metadata": {},
   "outputs": [],
   "source": [
    "#print(len(cases_sexcheck))"
   ]
  },
  {
   "cell_type": "code",
   "execution_count": 38,
   "metadata": {},
   "outputs": [],
   "source": [
    "#print(cases_sexcheck)"
   ]
  },
  {
   "cell_type": "code",
   "execution_count": 39,
   "metadata": {},
   "outputs": [
    {
     "name": "stdout",
     "output_type": "stream",
     "text": [
      "0\n"
     ]
    }
   ],
   "source": [
    "print(0)"
   ]
  },
  {
   "cell_type": "markdown",
   "metadata": {},
   "source": [
    "Removed failed sex check samples"
   ]
  },
  {
   "cell_type": "code",
   "execution_count": 40,
   "metadata": {},
   "outputs": [
    {
     "name": "stdout",
     "output_type": "stream",
     "text": [
      "117761 variants loaded from .bim file.\n",
      "\n",
      "1011 people (589 males, 329 females, 93 ambiguous) loaded from .fam.\n",
      "\n",
      "117761 variants and 1011 people pass filters and QC.\n",
      "\n",
      "--impute-sex: 3228 Xchr and 0 Ychr variant(s) scanned, all sexes imputed.\n",
      "\n"
     ]
    }
   ],
   "source": [
    "with open('cases_10_sexChecked.log', 'r') as f:\n",
    "    for line in f.readlines():\n",
    "        if 'variant' in line or 'people' in line:\n",
    "            print(line)"
   ]
  },
  {
   "cell_type": "markdown",
   "metadata": {},
   "source": [
    "Controls sex check fail"
   ]
  },
  {
   "cell_type": "code",
   "execution_count": 41,
   "metadata": {},
   "outputs": [
    {
     "data": {
      "text/plain": [
       "0"
      ]
     },
     "execution_count": 41,
     "metadata": {},
     "output_type": "execute_result"
    }
   ],
   "source": [
    "0"
   ]
  },
  {
   "cell_type": "markdown",
   "metadata": {},
   "source": [
    "Control samples remaining"
   ]
  },
  {
   "cell_type": "code",
   "execution_count": 42,
   "metadata": {},
   "outputs": [
    {
     "name": "stdout",
     "output_type": "stream",
     "text": [
      "128659 variants loaded from .bim file.\n",
      "\n",
      "5194 people (2626 males, 2568 females) loaded from .fam.\n",
      "\n",
      "128659 variants and 5194 people pass filters and QC.\n",
      "\n",
      "--impute-sex: 4469 Xchr and 0 Ychr variant(s) scanned, all sexes imputed.\n",
      "\n"
     ]
    }
   ],
   "source": [
    "with open('controls_10_sexChecked.log', 'r') as f:\n",
    "    for line in f.readlines():\n",
    "        if 'variant' in line or 'people' in line:\n",
    "            print(line)"
   ]
  },
  {
   "cell_type": "markdown",
   "metadata": {},
   "source": [
    "Stricter SNP missingness threshold 0.98"
   ]
  },
  {
   "cell_type": "markdown",
   "metadata": {},
   "source": [
    "Cases"
   ]
  },
  {
   "cell_type": "code",
   "execution_count": 43,
   "metadata": {},
   "outputs": [
    {
     "name": "stdout",
     "output_type": "stream",
     "text": [
      "117761 variants loaded from .bim file.\n",
      "\n",
      "1011 people (653 males, 358 females) loaded from .fam.\n",
      "\n",
      "704 variants removed due to missing genotype data (--geno).\n",
      "\n",
      "117057 variants and 1011 people pass filters and QC.\n",
      "\n"
     ]
    }
   ],
   "source": [
    "with open('cases_11_snps98.log', 'r') as f:\n",
    "    for line in f.readlines():\n",
    "        if 'variant' in line or 'people' in line:\n",
    "            print(line)"
   ]
  },
  {
   "cell_type": "markdown",
   "metadata": {},
   "source": [
    "Controls"
   ]
  },
  {
   "cell_type": "code",
   "execution_count": 44,
   "metadata": {},
   "outputs": [
    {
     "name": "stdout",
     "output_type": "stream",
     "text": [
      "117761 variants loaded from .bim file.\n",
      "\n",
      "1011 people (653 males, 358 females) loaded from .fam.\n",
      "\n",
      "704 variants removed due to missing genotype data (--geno).\n",
      "\n",
      "117057 variants and 1011 people pass filters and QC.\n",
      "\n"
     ]
    }
   ],
   "source": [
    "with open('cases_11_snps98.log', 'r') as f:\n",
    "    for line in f.readlines():\n",
    "        if 'variant' in line or 'people' in line:\n",
    "            print(line)"
   ]
  },
  {
   "cell_type": "markdown",
   "metadata": {},
   "source": [
    "HWE check"
   ]
  },
  {
   "cell_type": "markdown",
   "metadata": {},
   "source": [
    "Cases"
   ]
  },
  {
   "cell_type": "code",
   "execution_count": 46,
   "metadata": {},
   "outputs": [
    {
     "name": "stdout",
     "output_type": "stream",
     "text": [
      "117057 variants loaded from .bim file.\n",
      "\n",
      "1011 people (653 males, 358 females) loaded from .fam.\n",
      "\n",
      "--hwe: 180 variants removed due to Hardy-Weinberg exact test.\n",
      "\n",
      "116877 variants and 1011 people pass filters and QC.\n",
      "\n"
     ]
    }
   ],
   "source": [
    "with open('cases_12_hwe.log', 'r') as f:\n",
    "    for line in f.readlines():\n",
    "        if 'variant' in line or 'people' in line:\n",
    "            print(line)"
   ]
  },
  {
   "cell_type": "markdown",
   "metadata": {},
   "source": [
    "Controls"
   ]
  },
  {
   "cell_type": "code",
   "execution_count": 47,
   "metadata": {},
   "outputs": [
    {
     "name": "stdout",
     "output_type": "stream",
     "text": [
      "128389 variants loaded from .bim file.\n",
      "\n",
      "5194 people (2626 males, 2568 females) loaded from .fam.\n",
      "\n",
      "--hwe: 58 variants removed due to Hardy-Weinberg exact test.\n",
      "\n",
      "128331 variants and 5194 people pass filters and QC.\n",
      "\n"
     ]
    }
   ],
   "source": [
    "with open('controls_12_hwe.log', 'r') as f:\n",
    "    for line in f.readlines():\n",
    "        if 'variant' in line or 'people' in line:\n",
    "            print(line)"
   ]
  },
  {
   "cell_type": "markdown",
   "metadata": {},
   "source": [
    "Re-merge cases and controls"
   ]
  },
  {
   "cell_type": "code",
   "execution_count": 49,
   "metadata": {},
   "outputs": [
    {
     "name": "stdout",
     "output_type": "stream",
     "text": [
      "Performing single-pass merge (6205 people, 128588 variants).\n",
      "\n",
      "128588 variants loaded from .bim file.\n",
      "\n",
      "6205 people (3279 males, 2926 females) loaded from .fam.\n",
      "\n",
      "6205 phenotype values loaded from .fam.\n",
      "\n",
      "128588 variants and 6205 people pass filters and QC.\n",
      "\n",
      "Among remaining phenotypes, 1011 are cases and 5194 are controls.\n",
      "\n"
     ]
    }
   ],
   "source": [
    "with open('all_13_remerge.log', 'r') as f:\n",
    "    for line in f.readlines():\n",
    "        if 'variant' in line or 'people' in line or 'phenotype' in line:\n",
    "            print(line)"
   ]
  },
  {
   "cell_type": "markdown",
   "metadata": {},
   "source": [
    "Filter SNPs 98% over all"
   ]
  },
  {
   "cell_type": "code",
   "execution_count": 50,
   "metadata": {},
   "outputs": [
    {
     "name": "stdout",
     "output_type": "stream",
     "text": [
      "128588 variants loaded from .bim file.\n",
      "\n",
      "6205 people (3279 males, 2926 females) loaded from .fam.\n",
      "\n",
      "6205 phenotype values loaded from .fam.\n",
      "\n",
      "11968 variants removed due to missing genotype data (--geno).\n",
      "\n",
      "116620 variants and 6205 people pass filters and QC.\n",
      "\n",
      "Among remaining phenotypes, 1011 are cases and 5194 are controls.\n",
      "\n"
     ]
    }
   ],
   "source": [
    "with open('all_14_snps98.log', 'r') as f:\n",
    "    for line in f.readlines():\n",
    "        if 'variant' in line or 'people' in line or 'phenotype' in line:\n",
    "            print(line)"
   ]
  },
  {
   "cell_type": "markdown",
   "metadata": {},
   "source": [
    "Filter individuals missiningness 98% over all "
   ]
  },
  {
   "cell_type": "code",
   "execution_count": 51,
   "metadata": {},
   "outputs": [
    {
     "name": "stdout",
     "output_type": "stream",
     "text": [
      "116620 variants loaded from .bim file.\n",
      "\n",
      "6205 people (3279 males, 2926 females) loaded from .fam.\n",
      "\n",
      "6205 phenotype values loaded from .fam.\n",
      "\n",
      "2 people removed due to missing genotype data (--mind).\n",
      "\n",
      "116620 variants and 6203 people pass filters and QC.\n",
      "\n",
      "Among remaining phenotypes, 1011 are cases and 5192 are controls.\n",
      "\n"
     ]
    }
   ],
   "source": [
    "with open('all_15_ind98.log', 'r') as f:\n",
    "    for line in f.readlines():\n",
    "        if 'variant' in line or 'people' in line or 'phenotype' in line:\n",
    "            print(line)"
   ]
  },
  {
   "cell_type": "markdown",
   "metadata": {},
   "source": [
    "Remove any more HWE outlier variants"
   ]
  },
  {
   "cell_type": "code",
   "execution_count": 52,
   "metadata": {},
   "outputs": [
    {
     "name": "stdout",
     "output_type": "stream",
     "text": [
      "116620 variants loaded from .bim file.\n",
      "\n",
      "6203 people (3279 males, 2924 females) loaded from .fam.\n",
      "\n",
      "6203 phenotype values loaded from .fam.\n",
      "\n",
      "--hwe: 0 variants removed due to Hardy-Weinberg exact test.\n",
      "\n",
      "116620 variants and 6203 people pass filters and QC.\n",
      "\n",
      "Among remaining phenotypes, 1011 are cases and 5192 are controls.\n",
      "\n"
     ]
    }
   ],
   "source": [
    "with open('all_17_hwe.log', 'r') as f:\n",
    "    for line in f.readlines():\n",
    "        if 'variant' in line or 'people' in line or 'phenotype' in line:\n",
    "            print(line)"
   ]
  },
  {
   "cell_type": "markdown",
   "metadata": {},
   "source": [
    "Remove het outliers"
   ]
  },
  {
   "cell_type": "markdown",
   "metadata": {},
   "source": [
    "Het outliers"
   ]
  },
  {
   "cell_type": "code",
   "execution_count": 55,
   "metadata": {},
   "outputs": [],
   "source": [
    "#het_outliers = pd.read_csv(\"hetOutliersToRemove.txt\", header=None)"
   ]
  },
  {
   "cell_type": "code",
   "execution_count": 56,
   "metadata": {},
   "outputs": [],
   "source": [
    "#print(len(het_outliers))"
   ]
  },
  {
   "cell_type": "code",
   "execution_count": 57,
   "metadata": {},
   "outputs": [],
   "source": [
    "#print(het_outliers)"
   ]
  },
  {
   "cell_type": "code",
   "execution_count": 58,
   "metadata": {},
   "outputs": [
    {
     "name": "stdout",
     "output_type": "stream",
     "text": [
      "0\n"
     ]
    }
   ],
   "source": [
    "print(0)"
   ]
  },
  {
   "cell_type": "code",
   "execution_count": 59,
   "metadata": {},
   "outputs": [
    {
     "name": "stdout",
     "output_type": "stream",
     "text": [
      "116620 variants loaded from .bim file.\n",
      "\n",
      "6203 people (3279 males, 2924 females) loaded from .fam.\n",
      "\n",
      "6203 phenotype values loaded from .fam.\n",
      "\n",
      "--remove: 6203 people remaining.\n",
      "\n",
      "116620 variants and 6203 people pass filters and QC.\n",
      "\n",
      "Among remaining phenotypes, 1011 are cases and 5192 are controls.\n",
      "\n"
     ]
    }
   ],
   "source": [
    "with open('all_18_noHetOutliers.log', 'r') as f:\n",
    "    for line in f.readlines():\n",
    "        if 'variant' in line or 'people' in line or 'phenotype' in line:\n",
    "            print(line)"
   ]
  },
  {
   "cell_type": "markdown",
   "metadata": {},
   "source": [
    "Remove high LD regions and prune "
   ]
  },
  {
   "cell_type": "code",
   "execution_count": 60,
   "metadata": {},
   "outputs": [
    {
     "name": "stdout",
     "output_type": "stream",
     "text": [
      "116620 variants loaded from .bim file.\n",
      "\n",
      "6203 people (3279 males, 2924 females) loaded from .fam.\n",
      "\n",
      "6203 phenotype values loaded from .fam.\n",
      "\n",
      "--exclude: 113122 variants remaining.\n",
      "\n",
      "113122 variants and 6203 people pass filters and QC.\n",
      "\n",
      "Among remaining phenotypes, 1011 are cases and 5192 are controls.\n",
      "\n"
     ]
    }
   ],
   "source": [
    "with open('all_19_noHighLD.log', 'r') as f:\n",
    "    for line in f.readlines():\n",
    "        if 'variant' in line or 'people' in line or 'phenotype' in line:\n",
    "            print(line)"
   ]
  },
  {
   "cell_type": "markdown",
   "metadata": {},
   "source": [
    "Remove duplicates/twins"
   ]
  },
  {
   "cell_type": "code",
   "execution_count": 74,
   "metadata": {},
   "outputs": [],
   "source": [
    "dup_samples = pd.read_csv(\"duplicateSamples.txt\", header=None, sep=' ')"
   ]
  },
  {
   "cell_type": "code",
   "execution_count": 75,
   "metadata": {},
   "outputs": [
    {
     "name": "stdout",
     "output_type": "stream",
     "text": [
      "77\n"
     ]
    }
   ],
   "source": [
    "print(len(dup_samples))"
   ]
  },
  {
   "cell_type": "code",
   "execution_count": 76,
   "metadata": {},
   "outputs": [
    {
     "name": "stdout",
     "output_type": "stream",
     "text": [
      "0                   57948\n",
      "1                   60518\n",
      "2                   60840\n",
      "3                   61191\n",
      "4                   61374\n",
      "5                   61418\n",
      "6                   61615\n",
      "7                   61682\n",
      "8                   62036\n",
      "9                   62146\n",
      "10                  62418\n",
      "11                  63146\n",
      "12                  63443\n",
      "13                  63900\n",
      "14                  63900\n",
      "15                  63959\n",
      "16                  64220\n",
      "17                  64247\n",
      "18                  64247\n",
      "19                  64467\n",
      "20                  65283\n",
      "21                  65780\n",
      "22                  65994\n",
      "23                  66228\n",
      "24                  69067\n",
      "25                  70314\n",
      "26                  70799\n",
      "27                  71191\n",
      "28                  71857\n",
      "29                  71858\n",
      "             ...         \n",
      "47                  95534\n",
      "48                  95538\n",
      "49                  96285\n",
      "50                  96888\n",
      "51                 100316\n",
      "52                 100374\n",
      "53                 100631\n",
      "54                 101314\n",
      "55                 101314\n",
      "56                 101324\n",
      "57                 101715\n",
      "58                 101777\n",
      "59                 102975\n",
      "60                 103485\n",
      "61                 104048\n",
      "62                 104994\n",
      "63                 105077\n",
      "64                 105741\n",
      "65                 105742\n",
      "66                 105827\n",
      "67                 105828\n",
      "68                 105828\n",
      "69                 105847\n",
      "70                 105847\n",
      "71                 105975\n",
      "72    203692670071_R02C02\n",
      "73    203692670071_R12C02\n",
      "74    203692670081_R01C01\n",
      "75                 CH0014\n",
      "76           WTCCCT442838\n",
      "Name: 0, Length: 77, dtype: object\n"
     ]
    }
   ],
   "source": [
    "print(dup_samples.iloc[:,0])"
   ]
  },
  {
   "cell_type": "code",
   "execution_count": 77,
   "metadata": {},
   "outputs": [
    {
     "name": "stdout",
     "output_type": "stream",
     "text": [
      "113122 variants loaded from .bim file.\n",
      "\n",
      "6131 people (3227 males, 2904 females) loaded from .fam.\n",
      "\n",
      "6131 phenotype values loaded from .fam.\n",
      "\n",
      "113122 variants and 6131 people pass filters and QC.\n",
      "\n",
      "Among remaining phenotypes, 940 are cases and 5191 are controls.\n",
      "\n"
     ]
    }
   ],
   "source": [
    "with open('all_20_noDups.log', 'r') as f:\n",
    "    for line in f.readlines():\n",
    "        if 'variant' in line or 'people' in line or 'phenotype' in line:\n",
    "            print(line)"
   ]
  },
  {
   "cell_type": "markdown",
   "metadata": {},
   "source": [
    "PCA outliers"
   ]
  },
  {
   "cell_type": "markdown",
   "metadata": {},
   "source": [
    "European"
   ]
  },
  {
   "cell_type": "code",
   "execution_count": 78,
   "metadata": {},
   "outputs": [],
   "source": [
    "european = pd.read_csv(\"european_to_keep.txt\", header=None)"
   ]
  },
  {
   "cell_type": "code",
   "execution_count": 79,
   "metadata": {},
   "outputs": [
    {
     "name": "stdout",
     "output_type": "stream",
     "text": [
      "6047\n"
     ]
    }
   ],
   "source": [
    "print(len(european))"
   ]
  },
  {
   "cell_type": "code",
   "execution_count": 80,
   "metadata": {},
   "outputs": [
    {
     "name": "stdout",
     "output_type": "stream",
     "text": [
      "113122 variants loaded from .bim file.\n",
      "\n",
      "6131 people (3227 males, 2904 females) loaded from .fam.\n",
      "\n",
      "6131 phenotype values loaded from .fam.\n",
      "\n",
      "--keep: 6047 people remaining.\n",
      "\n",
      "113122 variants and 6047 people pass filters and QC.\n",
      "\n",
      "Among remaining phenotypes, 878 are cases and 5169 are controls.\n",
      "\n"
     ]
    }
   ],
   "source": [
    "with open('all_21_european.log', 'r') as f:\n",
    "    for line in f.readlines():\n",
    "        if 'variant' in line or 'people' in line  or 'phenotype' in line:\n",
    "            print(line)"
   ]
  },
  {
   "cell_type": "markdown",
   "metadata": {},
   "source": [
    "Change to post-PCA working directory"
   ]
  },
  {
   "cell_type": "code",
   "execution_count": 93,
   "metadata": {},
   "outputs": [],
   "source": [
    "os.chdir(\"I:/psivakumar/Emer_CH/gwas/uk_analysis/alt_pca\")"
   ]
  },
  {
   "cell_type": "code",
   "execution_count": 94,
   "metadata": {},
   "outputs": [],
   "source": [
    "pca_outliers = pd.read_csv(\"pcaSamplesToRemove.txt\", header=None, sep='\\t')"
   ]
  },
  {
   "cell_type": "code",
   "execution_count": 95,
   "metadata": {},
   "outputs": [
    {
     "name": "stdout",
     "output_type": "stream",
     "text": [
      "139\n"
     ]
    }
   ],
   "source": [
    "print(len(pca_outliers))"
   ]
  },
  {
   "cell_type": "code",
   "execution_count": 96,
   "metadata": {},
   "outputs": [
    {
     "name": "stdout",
     "output_type": "stream",
     "text": [
      "                0             1\n",
      "0           60940         60940\n",
      "1           61268         61268\n",
      "2           62033         62033\n",
      "3           62228         62228\n",
      "4           62460         62460\n",
      "5           62951         62951\n",
      "6           66087         66087\n",
      "7           66411         66411\n",
      "8           67118         67118\n",
      "9           67453         67453\n",
      "10          69359         69359\n",
      "11          71155         71155\n",
      "12          71299         71299\n",
      "13          72024         72024\n",
      "14          72674         72674\n",
      "15          73016         73016\n",
      "16          76679         76679\n",
      "17          77879         77879\n",
      "18          79241         79241\n",
      "19          79371         79371\n",
      "20          80128         80128\n",
      "21          87465         87465\n",
      "22          89832         89832\n",
      "23          90234         90234\n",
      "24          90491         90491\n",
      "25          90729         90729\n",
      "26          90870         90870\n",
      "27          91300         91300\n",
      "28          92255         92255\n",
      "29          94978         94978\n",
      "..            ...           ...\n",
      "109   BLOOD294149   BLOOD294149\n",
      "110        CH0032        CH0032\n",
      "111    WTCCC88496    WTCCC88496\n",
      "112    WTCCC89097    WTCCC89097\n",
      "113  WTCCCT442437  WTCCCT442437\n",
      "114  WTCCCT442553  WTCCCT442553\n",
      "115  WTCCCT442850  WTCCCT442850\n",
      "116  WTCCCT442980  WTCCCT442980\n",
      "117  WTCCCT442987  WTCCCT442987\n",
      "118  WTCCCT443280  WTCCCT443280\n",
      "119  WTCCCT443564  WTCCCT443564\n",
      "120  WTCCCT444266  WTCCCT444266\n",
      "121  WTCCCT444353  WTCCCT444353\n",
      "122  WTCCCT444662  WTCCCT444662\n",
      "123  WTCCCT444859  WTCCCT444859\n",
      "124  WTCCCT511315  WTCCCT511315\n",
      "125  WTCCCT511406  WTCCCT511406\n",
      "126  WTCCCT511574  WTCCCT511574\n",
      "127  WTCCCT511626  WTCCCT511626\n",
      "128  WTCCCT511683  WTCCCT511683\n",
      "129  WTCCCT542185  WTCCCT542185\n",
      "130  WTCCCT542335  WTCCCT542335\n",
      "131  WTCCCT542724  WTCCCT542724\n",
      "132  WTCCCT542911  WTCCCT542911\n",
      "133  WTCCCT543127  WTCCCT543127\n",
      "134  WTCCCT543498  WTCCCT543498\n",
      "135  WTCCCT543543  WTCCCT543543\n",
      "136         62942         62942\n",
      "137         62943         62943\n",
      "138         63184         63184\n",
      "\n",
      "[139 rows x 2 columns]\n"
     ]
    }
   ],
   "source": [
    "print(pca_outliers)"
   ]
  },
  {
   "cell_type": "code",
   "execution_count": 97,
   "metadata": {},
   "outputs": [
    {
     "name": "stdout",
     "output_type": "stream",
     "text": [
      "113122 variants loaded from .bim file.\n",
      "\n",
      "6047 people (3172 males, 2875 females) loaded from .fam.\n",
      "\n",
      "6047 phenotype values loaded from .fam.\n",
      "\n",
      "--remove: 5908 people remaining.\n",
      "\n",
      "113122 variants and 5908 people pass filters and QC.\n",
      "\n",
      "Among remaining phenotypes, 781 are cases and 5127 are controls.\n",
      "\n"
     ]
    }
   ],
   "source": [
    "with open('all_22_pcaCleaned.log', 'r') as f:\n",
    "    for line in f.readlines():\n",
    "        if 'variant' in line or 'people' in line  or 'phenotype' in line:\n",
    "            print(line)"
   ]
  },
  {
   "cell_type": "markdown",
   "metadata": {},
   "source": [
    "Exclude SNPs with sig diff genotyping rate"
   ]
  },
  {
   "cell_type": "code",
   "execution_count": 98,
   "metadata": {},
   "outputs": [
    {
     "name": "stdout",
     "output_type": "stream",
     "text": [
      "113122 variants loaded from .bim file.\n",
      "\n",
      "5908 people (3090 males, 2818 females) loaded from .fam.\n",
      "\n",
      "5908 phenotype values loaded from .fam.\n",
      "\n",
      "--exclude: 110909 variants remaining.\n",
      "\n",
      "110909 variants and 5908 people pass filters and QC.\n",
      "\n",
      "Among remaining phenotypes, 781 are cases and 5127 are controls.\n",
      "\n"
     ]
    }
   ],
   "source": [
    "with open('all_23_noSigDiffGeno.log', 'r') as f:\n",
    "    for line in f.readlines():\n",
    "        if 'variant' in line or 'people' in line or 'phenotype' in line:\n",
    "            print(line)"
   ]
  }
 ],
 "metadata": {
  "kernelspec": {
   "display_name": "Python 3",
   "language": "python",
   "name": "python3"
  },
  "language_info": {
   "codemirror_mode": {
    "name": "ipython",
    "version": 3
   },
   "file_extension": ".py",
   "mimetype": "text/x-python",
   "name": "python",
   "nbconvert_exporter": "python",
   "pygments_lexer": "ipython3",
   "version": "3.7.4"
  }
 },
 "nbformat": 4,
 "nbformat_minor": 2
}
